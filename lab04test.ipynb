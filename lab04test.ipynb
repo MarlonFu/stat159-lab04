{
 "cells": [
  {
   "cell_type": "markdown",
   "id": "ec41b06e-4ae9-4674-aec2-7eede756c31b",
   "metadata": {},
   "source": [
    "# Title"
   ]
  },
  {
   "cell_type": "markdown",
   "id": "a9216001-e912-4f01-b97c-382a5b0f48f8",
   "metadata": {},
   "source": [
    "Author: Marlon Fu"
   ]
  },
  {
   "cell_type": "code",
   "execution_count": 1,
   "id": "35c1b52c-de2b-442a-9544-a9ebf825f193",
   "metadata": {},
   "outputs": [
    {
     "name": "stdout",
     "output_type": "stream",
     "text": [
      "This is some code\n"
     ]
    }
   ],
   "source": [
    "print('This is some code')"
   ]
  },
  {
   "cell_type": "code",
   "execution_count": 1,
   "id": "bc44f301-6191-449f-8b2a-a7f2d891e855",
   "metadata": {
    "lines_to_next_cell": 2
   },
   "outputs": [
    {
     "name": "stdout",
     "output_type": "stream",
     "text": [
      "21\n"
     ]
    }
   ],
   "source": [
    "x = 21\n",
    "print(x)"
   ]
  },
  {
   "cell_type": "code",
   "execution_count": 2,
   "id": "825d029c-3337-4d40-8803-f27189b552a3",
   "metadata": {
    "lines_to_next_cell": 2
   },
   "outputs": [
    {
     "name": "stdout",
     "output_type": "stream",
     "text": [
      "askdjhasd\n"
     ]
    }
   ],
   "source": [
    "print('askdjhasd')"
   ]
  },
  {
   "cell_type": "code",
   "execution_count": 3,
   "id": "1536c1db-dbd0-400f-846e-7f278a8900e1",
   "metadata": {},
   "outputs": [],
   "source": [
    "x = 1"
   ]
  },
  {
   "cell_type": "code",
   "execution_count": null,
   "id": "bcdb391a-51fb-4525-8faf-dd0b3d878170",
   "metadata": {},
   "outputs": [],
   "source": [
    "print('changes made by Alice')"
   ]
  }
 ],
 "metadata": {
  "jupytext": {
   "formats": "ipynb,py:light,md"
  },
  "kernelspec": {
   "display_name": "Python 3 (ipykernel)",
   "language": "python",
   "name": "python3"
  },
  "language_info": {
   "codemirror_mode": {
    "name": "ipython",
    "version": 3
   },
   "file_extension": ".py",
   "mimetype": "text/x-python",
   "name": "python",
   "nbconvert_exporter": "python",
   "pygments_lexer": "ipython3",
   "version": "3.9.9"
  }
 },
 "nbformat": 4,
 "nbformat_minor": 5
}
